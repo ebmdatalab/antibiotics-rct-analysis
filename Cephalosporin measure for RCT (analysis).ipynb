{
 "cells": [
  {
   "cell_type": "code",
   "execution_count": 1,
   "metadata": {},
   "outputs": [
    {
     "name": "stdout",
     "output_type": "stream",
     "text": [
      "<class 'pandas.core.frame.DataFrame'>\n",
      "RangeIndex: 287140 entries, 0 to 287139\n",
      "Data columns (total 11 columns):\n",
      " #   Column            Non-Null Count   Dtype         \n",
      "---  ------            --------------   -----         \n",
      " 0   numerator         287140 non-null  int64         \n",
      " 1   denominator       287140 non-null  int64         \n",
      " 2   practice_id       287140 non-null  object        \n",
      " 3   pcn_id            236460 non-null  object        \n",
      " 4   pct_id            287140 non-null  object        \n",
      " 5   stp_id            285740 non-null  object        \n",
      " 6   regional_team_id  285740 non-null  object        \n",
      " 7   month             287140 non-null  datetime64[ns]\n",
      " 8   calc_value        251171 non-null  float64       \n",
      " 9   percentile        251171 non-null  float64       \n",
      " 10  month_no          287140 non-null  int64         \n",
      "dtypes: datetime64[ns](1), float64(2), int64(3), object(5)\n",
      "memory usage: 24.1+ MB\n"
     ]
    }
   ],
   "source": [
    "# Set dates of baseline and follow-up periods\n",
    "d4 = '2019-03-01' # month after end of follow-up period\n",
    "d3 = '2018-09-01' # follow-up start\n",
    "d2 = '2018-03-01' # month after end of baseline period\n",
    "d1 = '2017-09-01' # baseline start\n",
    "\n",
    "\n",
    "# Import dataset from BigQuery\n",
    "import pandas as pd\n",
    "import numpy as np\n",
    "from ebmdatalab import bq\n",
    "\n",
    "q = '''SELECT *, DATE_DIFF(month,'2017-08-01', MONTH) AS month_no FROM ebmdatalab.measures.practice_data_ktt9_cephalosporins\n",
    "WHERE EXTRACT (YEAR from month)  >= 2017\n",
    "'''\n",
    "df1 = bq.cached_read(q, csv_path='data/ktt9_cephalosporins_data.csv')\n",
    "df1[\"month\"] = pd.to_datetime(df1.month)\n",
    "df1.info()"
   ]
  },
  {
   "cell_type": "markdown",
   "metadata": {},
   "source": [
    "### Restrict data to baseline and follow-up periods"
   ]
  },
  {
   "cell_type": "code",
   "execution_count": 2,
   "metadata": {},
   "outputs": [
    {
     "data": {
      "text/html": [
       "<div>\n",
       "<style scoped>\n",
       "    .dataframe tbody tr th:only-of-type {\n",
       "        vertical-align: middle;\n",
       "    }\n",
       "\n",
       "    .dataframe tbody tr th {\n",
       "        vertical-align: top;\n",
       "    }\n",
       "\n",
       "    .dataframe thead th {\n",
       "        text-align: right;\n",
       "    }\n",
       "</style>\n",
       "<table border=\"1\" class=\"dataframe\">\n",
       "  <thead>\n",
       "    <tr style=\"text-align: right;\">\n",
       "      <th></th>\n",
       "      <th></th>\n",
       "      <th></th>\n",
       "      <th>numerator</th>\n",
       "      <th>denominator</th>\n",
       "    </tr>\n",
       "    <tr>\n",
       "      <th>practice_id</th>\n",
       "      <th>period</th>\n",
       "      <th>month</th>\n",
       "      <th></th>\n",
       "      <th></th>\n",
       "    </tr>\n",
       "  </thead>\n",
       "  <tbody>\n",
       "    <tr>\n",
       "      <th rowspan=\"10\" valign=\"top\">A81001</th>\n",
       "      <th rowspan=\"3\" valign=\"top\">before</th>\n",
       "      <th>2017-06-01</th>\n",
       "      <td>13</td>\n",
       "      <td>230</td>\n",
       "    </tr>\n",
       "    <tr>\n",
       "      <th>2017-04-01</th>\n",
       "      <td>9</td>\n",
       "      <td>199</td>\n",
       "    </tr>\n",
       "    <tr>\n",
       "      <th>2017-08-01</th>\n",
       "      <td>7</td>\n",
       "      <td>158</td>\n",
       "    </tr>\n",
       "    <tr>\n",
       "      <th rowspan=\"4\" valign=\"top\">after</th>\n",
       "      <th>2019-08-01</th>\n",
       "      <td>12</td>\n",
       "      <td>173</td>\n",
       "    </tr>\n",
       "    <tr>\n",
       "      <th>2019-11-01</th>\n",
       "      <td>8</td>\n",
       "      <td>223</td>\n",
       "    </tr>\n",
       "    <tr>\n",
       "      <th>2019-09-01</th>\n",
       "      <td>12</td>\n",
       "      <td>175</td>\n",
       "    </tr>\n",
       "    <tr>\n",
       "      <th>2019-04-01</th>\n",
       "      <td>21</td>\n",
       "      <td>206</td>\n",
       "    </tr>\n",
       "    <tr>\n",
       "      <th>follow-up</th>\n",
       "      <th>2018-09-01</th>\n",
       "      <td>8</td>\n",
       "      <td>200</td>\n",
       "    </tr>\n",
       "    <tr>\n",
       "      <th>after</th>\n",
       "      <th>2019-07-01</th>\n",
       "      <td>15</td>\n",
       "      <td>207</td>\n",
       "    </tr>\n",
       "    <tr>\n",
       "      <th>mid</th>\n",
       "      <th>2018-05-01</th>\n",
       "      <td>6</td>\n",
       "      <td>206</td>\n",
       "    </tr>\n",
       "  </tbody>\n",
       "</table>\n",
       "</div>"
      ],
      "text/plain": [
       "                                  numerator  denominator\n",
       "practice_id period    month                             \n",
       "A81001      before    2017-06-01         13          230\n",
       "                      2017-04-01          9          199\n",
       "                      2017-08-01          7          158\n",
       "            after     2019-08-01         12          173\n",
       "                      2019-11-01          8          223\n",
       "                      2019-09-01         12          175\n",
       "                      2019-04-01         21          206\n",
       "            follow-up 2018-09-01          8          200\n",
       "            after     2019-07-01         15          207\n",
       "            mid       2018-05-01          6          206"
      ]
     },
     "execution_count": 2,
     "metadata": {},
     "output_type": "execute_result"
    }
   ],
   "source": [
    "import datetime\n",
    "\n",
    "conditions = [\n",
    "    (df1['month']  >= d4), # after follow-up period\n",
    "    (df1['month']  >= d3), # follow-up\n",
    "    (df1['month']  >= d2), # mid\n",
    "    (df1['month']  >= d1), # baseline\n",
    "    (df1['month']  < d1)] # before\n",
    "\n",
    "choices = ['after', 'follow-up', 'mid', 'baseline','before']\n",
    "df1['period'] = np.select(conditions, choices, default='0')\n",
    "\n",
    "# take columns of interest from df\n",
    "df2 = df1[[\"practice_id\",\"period\", \"month\", \"numerator\",\"denominator\"]]\n",
    "df2 = df2.set_index([\"practice_id\",\"period\", \"month\"])\n",
    "df2.head(10)"
   ]
  },
  {
   "cell_type": "markdown",
   "metadata": {},
   "source": [
    "### Aggregate and rearrange data"
   ]
  },
  {
   "cell_type": "code",
   "execution_count": 3,
   "metadata": {},
   "outputs": [
    {
     "data": {
      "text/html": [
       "<div>\n",
       "<style scoped>\n",
       "    .dataframe tbody tr th:only-of-type {\n",
       "        vertical-align: middle;\n",
       "    }\n",
       "\n",
       "    .dataframe tbody tr th {\n",
       "        vertical-align: top;\n",
       "    }\n",
       "\n",
       "    .dataframe thead th {\n",
       "        text-align: right;\n",
       "    }\n",
       "</style>\n",
       "<table border=\"1\" class=\"dataframe\">\n",
       "  <thead>\n",
       "    <tr style=\"text-align: right;\">\n",
       "      <th>period</th>\n",
       "      <th>Baseline Measure</th>\n",
       "      <th>Follow-up Measure</th>\n",
       "      <th>Baseline Items</th>\n",
       "      <th>Follow-up Items</th>\n",
       "      <th>Baseline Denominator</th>\n",
       "      <th>Follow-up Denominator</th>\n",
       "    </tr>\n",
       "    <tr>\n",
       "      <th>practice_id</th>\n",
       "      <th></th>\n",
       "      <th></th>\n",
       "      <th></th>\n",
       "      <th></th>\n",
       "      <th></th>\n",
       "      <th></th>\n",
       "    </tr>\n",
       "  </thead>\n",
       "  <tbody>\n",
       "    <tr>\n",
       "      <th>A81001</th>\n",
       "      <td>0.046563</td>\n",
       "      <td>0.047184</td>\n",
       "      <td>63</td>\n",
       "      <td>62</td>\n",
       "      <td>1353</td>\n",
       "      <td>1314</td>\n",
       "    </tr>\n",
       "    <tr>\n",
       "      <th>A81002</th>\n",
       "      <td>0.085483</td>\n",
       "      <td>0.094128</td>\n",
       "      <td>580</td>\n",
       "      <td>553</td>\n",
       "      <td>6785</td>\n",
       "      <td>5875</td>\n",
       "    </tr>\n",
       "    <tr>\n",
       "      <th>A81003</th>\n",
       "      <td>NaN</td>\n",
       "      <td>NaN</td>\n",
       "      <td>0</td>\n",
       "      <td>0</td>\n",
       "      <td>0</td>\n",
       "      <td>0</td>\n",
       "    </tr>\n",
       "    <tr>\n",
       "      <th>A81004</th>\n",
       "      <td>0.081362</td>\n",
       "      <td>0.068750</td>\n",
       "      <td>258</td>\n",
       "      <td>220</td>\n",
       "      <td>3171</td>\n",
       "      <td>3200</td>\n",
       "    </tr>\n",
       "    <tr>\n",
       "      <th>A81005</th>\n",
       "      <td>0.110249</td>\n",
       "      <td>0.112473</td>\n",
       "      <td>270</td>\n",
       "      <td>257</td>\n",
       "      <td>2449</td>\n",
       "      <td>2285</td>\n",
       "    </tr>\n",
       "  </tbody>\n",
       "</table>\n",
       "</div>"
      ],
      "text/plain": [
       "period       Baseline Measure  Follow-up Measure  Baseline Items  \\\n",
       "practice_id                                                        \n",
       "A81001               0.046563           0.047184              63   \n",
       "A81002               0.085483           0.094128             580   \n",
       "A81003                    NaN                NaN               0   \n",
       "A81004               0.081362           0.068750             258   \n",
       "A81005               0.110249           0.112473             270   \n",
       "\n",
       "period       Follow-up Items  Baseline Denominator  Follow-up Denominator  \n",
       "practice_id                                                                \n",
       "A81001                    62                  1353                   1314  \n",
       "A81002                   553                  6785                   5875  \n",
       "A81003                     0                     0                      0  \n",
       "A81004                   220                  3171                   3200  \n",
       "A81005                   257                  2449                   2285  "
      ]
     },
     "execution_count": 3,
     "metadata": {},
     "output_type": "execute_result"
    }
   ],
   "source": [
    "\n",
    "dfm = df2.reset_index()\n",
    "dfm = dfm.loc[(dfm.period==\"baseline\") | (dfm.period==\"follow-up\")]\n",
    "\n",
    "### sum numerator and denominators for each practice for each period\n",
    "agg_6m = dfm.groupby([\"practice_id\",\"period\"]).sum()\n",
    "\n",
    "### calculate aggregated measure values\n",
    "agg_6m[\"calc_value\"] = agg_6m.numerator / agg_6m.denominator\n",
    "\n",
    "# unstack years\n",
    "dfx = agg_6m.reset_index()\n",
    "dfx = dfx[[\"practice_id\",\"period\",\"calc_value\",\"numerator\",\"denominator\"]].set_index([\"practice_id\",\"period\"]) \n",
    "dfx = dfx.unstack(1)\n",
    "\n",
    "# rename columns appropriately\n",
    "dfx.columns = dfx.columns.droplevel()\n",
    "dfx.columns.values[0] = 'Baseline Measure'\n",
    "dfx.columns.values[1] = 'Follow-up Measure'\n",
    "dfx.columns.values[2] = 'Baseline Items'\n",
    "dfx.columns.values[3] = 'Follow-up Items'\n",
    "dfx.columns.values[4] = 'Baseline Denominator'\n",
    "dfx.columns.values[5] = 'Follow-up Denominator'\n",
    "\n",
    "dfx.head()"
   ]
  },
  {
   "cell_type": "markdown",
   "metadata": {},
   "source": [
    "### import **allocated** practices and merge with data"
   ]
  },
  {
   "cell_type": "code",
   "execution_count": 4,
   "metadata": {
    "scrolled": true
   },
   "outputs": [
    {
     "data": {
      "text/html": [
       "<div>\n",
       "<style scoped>\n",
       "    .dataframe tbody tr th:only-of-type {\n",
       "        vertical-align: middle;\n",
       "    }\n",
       "\n",
       "    .dataframe tbody tr th {\n",
       "        vertical-align: top;\n",
       "    }\n",
       "\n",
       "    .dataframe thead th {\n",
       "        text-align: right;\n",
       "    }\n",
       "</style>\n",
       "<table border=\"1\" class=\"dataframe\">\n",
       "  <thead>\n",
       "    <tr style=\"text-align: right;\">\n",
       "      <th></th>\n",
       "      <th>practice_id</th>\n",
       "      <th>ccg_id</th>\n",
       "      <th>allocation</th>\n",
       "      <th>group_ab</th>\n",
       "      <th>Baseline Measure</th>\n",
       "      <th>Follow-up Measure</th>\n",
       "      <th>Baseline Items</th>\n",
       "      <th>Follow-up Items</th>\n",
       "      <th>Baseline Denominator</th>\n",
       "      <th>Follow-up Denominator</th>\n",
       "    </tr>\n",
       "  </thead>\n",
       "  <tbody>\n",
       "    <tr>\n",
       "      <th>0</th>\n",
       "      <td>A83060</td>\n",
       "      <td>00D</td>\n",
       "      <td>I</td>\n",
       "      <td>A</td>\n",
       "      <td>0.110106</td>\n",
       "      <td>0.084349</td>\n",
       "      <td>146</td>\n",
       "      <td>90</td>\n",
       "      <td>1326</td>\n",
       "      <td>1067</td>\n",
       "    </tr>\n",
       "    <tr>\n",
       "      <th>1</th>\n",
       "      <td>A83050</td>\n",
       "      <td>00J</td>\n",
       "      <td>I</td>\n",
       "      <td>A</td>\n",
       "      <td>0.109578</td>\n",
       "      <td>0.112531</td>\n",
       "      <td>532</td>\n",
       "      <td>493</td>\n",
       "      <td>4855</td>\n",
       "      <td>4381</td>\n",
       "    </tr>\n",
       "    <tr>\n",
       "      <th>2</th>\n",
       "      <td>A83637</td>\n",
       "      <td>00J</td>\n",
       "      <td>con</td>\n",
       "      <td>con</td>\n",
       "      <td>0.106878</td>\n",
       "      <td>0.078813</td>\n",
       "      <td>101</td>\n",
       "      <td>77</td>\n",
       "      <td>945</td>\n",
       "      <td>977</td>\n",
       "    </tr>\n",
       "    <tr>\n",
       "      <th>3</th>\n",
       "      <td>A81040</td>\n",
       "      <td>00K</td>\n",
       "      <td>con</td>\n",
       "      <td>con</td>\n",
       "      <td>0.106930</td>\n",
       "      <td>0.131306</td>\n",
       "      <td>341</td>\n",
       "      <td>367</td>\n",
       "      <td>3189</td>\n",
       "      <td>2795</td>\n",
       "    </tr>\n",
       "    <tr>\n",
       "      <th>4</th>\n",
       "      <td>A84007</td>\n",
       "      <td>00L</td>\n",
       "      <td>I</td>\n",
       "      <td>A</td>\n",
       "      <td>0.107757</td>\n",
       "      <td>0.104662</td>\n",
       "      <td>382</td>\n",
       "      <td>330</td>\n",
       "      <td>3545</td>\n",
       "      <td>3153</td>\n",
       "    </tr>\n",
       "  </tbody>\n",
       "</table>\n",
       "</div>"
      ],
      "text/plain": [
       "  practice_id ccg_id allocation group_ab  Baseline Measure  Follow-up Measure  \\\n",
       "0      A83060    00D          I        A          0.110106           0.084349   \n",
       "1      A83050    00J          I        A          0.109578           0.112531   \n",
       "2      A83637    00J        con      con          0.106878           0.078813   \n",
       "3      A81040    00K        con      con          0.106930           0.131306   \n",
       "4      A84007    00L          I        A          0.107757           0.104662   \n",
       "\n",
       "   Baseline Items  Follow-up Items  Baseline Denominator  \\\n",
       "0             146               90                  1326   \n",
       "1             532              493                  4855   \n",
       "2             101               77                   945   \n",
       "3             341              367                  3189   \n",
       "4             382              330                  3545   \n",
       "\n",
       "   Follow-up Denominator  \n",
       "0                   1067  \n",
       "1                   4381  \n",
       "2                    977  \n",
       "3                   2795  \n",
       "4                   3153  "
      ]
     },
     "execution_count": 4,
     "metadata": {},
     "output_type": "execute_result"
    }
   ],
   "source": [
    "\n",
    "prac = pd.read_csv('data/practice_allocations.csv', usecols=[\"practice_id\",\"ccg_id\",\"allocation\",\"group_ab\"])\n",
    "dfx2 = dfx.reset_index()\n",
    "\n",
    "dfx2 = prac.merge(dfx2, how='left', on='practice_id')\n",
    "\n",
    "dfx2.head()"
   ]
  },
  {
   "cell_type": "markdown",
   "metadata": {},
   "source": [
    "### Count practices with no follow-up data"
   ]
  },
  {
   "cell_type": "code",
   "execution_count": 5,
   "metadata": {},
   "outputs": [
    {
     "data": {
      "text/html": [
       "<div>\n",
       "<style scoped>\n",
       "    .dataframe tbody tr th:only-of-type {\n",
       "        vertical-align: middle;\n",
       "    }\n",
       "\n",
       "    .dataframe tbody tr th {\n",
       "        vertical-align: top;\n",
       "    }\n",
       "\n",
       "    .dataframe thead th {\n",
       "        text-align: right;\n",
       "    }\n",
       "</style>\n",
       "<table border=\"1\" class=\"dataframe\">\n",
       "  <thead>\n",
       "    <tr style=\"text-align: right;\">\n",
       "      <th></th>\n",
       "      <th>Baseline Measure</th>\n",
       "      <th>Follow-up Measure</th>\n",
       "      <th>No Follow-up</th>\n",
       "    </tr>\n",
       "    <tr>\n",
       "      <th>group_ab</th>\n",
       "      <th></th>\n",
       "      <th></th>\n",
       "      <th></th>\n",
       "    </tr>\n",
       "  </thead>\n",
       "  <tbody>\n",
       "    <tr>\n",
       "      <th>A</th>\n",
       "      <td>356</td>\n",
       "      <td>354</td>\n",
       "      <td>2</td>\n",
       "    </tr>\n",
       "    <tr>\n",
       "      <th>B</th>\n",
       "      <td>347</td>\n",
       "      <td>342</td>\n",
       "      <td>5</td>\n",
       "    </tr>\n",
       "    <tr>\n",
       "      <th>con</th>\n",
       "      <td>698</td>\n",
       "      <td>689</td>\n",
       "      <td>9</td>\n",
       "    </tr>\n",
       "  </tbody>\n",
       "</table>\n",
       "</div>"
      ],
      "text/plain": [
       "          Baseline Measure  Follow-up Measure  No Follow-up\n",
       "group_ab                                                   \n",
       "A                      356                354             2\n",
       "B                      347                342             5\n",
       "con                    698                689             9"
      ]
     },
     "execution_count": 5,
     "metadata": {},
     "output_type": "execute_result"
    }
   ],
   "source": [
    "# Where there were no antibiotic items prescribed during follow-up period, follow-up measure is null\n",
    "# .loc[pd.isnull(dfx2[\"Follow-up Measure\"])]\n",
    "null_count = dfx2.groupby(\"group_ab\")[[\"Baseline Measure\",\"Follow-up Measure\"]].count()\n",
    "null_count[\"No Follow-up\"] = null_count['Baseline Measure'] - null_count['Follow-up Measure']\n",
    "null_count#.sum(axis=1)"
   ]
  },
  {
   "cell_type": "markdown",
   "metadata": {},
   "source": [
    "# Plot charts"
   ]
  },
  {
   "cell_type": "code",
   "execution_count": 13,
   "metadata": {},
   "outputs": [
    {
     "ename": "TypeError",
     "evalue": "an integer is required (got type str)",
     "output_type": "error",
     "traceback": [
      "\u001b[1;31m---------------------------------------------------------------------------\u001b[0m",
      "\u001b[1;31mTypeError\u001b[0m                                 Traceback (most recent call last)",
      "\u001b[1;32m<ipython-input-13-e561d4537337>\u001b[0m in \u001b[0;36m<module>\u001b[1;34m\u001b[0m\n\u001b[0;32m     45\u001b[0m \u001b[1;33m\u001b[0m\u001b[0m\n\u001b[0;32m     46\u001b[0m \u001b[1;33m\u001b[0m\u001b[0m\n\u001b[1;32m---> 47\u001b[1;33m \u001b[0mplot_timetrends\u001b[0m\u001b[1;33m(\u001b[0m\u001b[1;33m)\u001b[0m\u001b[1;33m\u001b[0m\u001b[1;33m\u001b[0m\u001b[0m\n\u001b[0m",
      "\u001b[1;32m<ipython-input-13-e561d4537337>\u001b[0m in \u001b[0;36mplot_timetrends\u001b[1;34m(df, ymin, ymax, legend_loc, ylabel)\u001b[0m\n\u001b[0;32m     28\u001b[0m     \u001b[1;31m# Add vertical lines for significant time points\u001b[0m\u001b[1;33m\u001b[0m\u001b[1;33m\u001b[0m\u001b[1;33m\u001b[0m\u001b[0m\n\u001b[0;32m     29\u001b[0m     \u001b[0mxposition\u001b[0m \u001b[1;33m=\u001b[0m \u001b[1;33m[\u001b[0m\u001b[1;34m'2017-09-01'\u001b[0m\u001b[1;33m,\u001b[0m \u001b[1;34m'2018-02-01'\u001b[0m\u001b[1;33m,\u001b[0m\u001b[1;34m'2018-09-01'\u001b[0m\u001b[1;33m,\u001b[0m\u001b[1;34m'2019-02-01'\u001b[0m\u001b[1;33m,\u001b[0m\u001b[1;34m'2018-05-01'\u001b[0m\u001b[1;33m,\u001b[0m\u001b[1;34m'2018-07-01'\u001b[0m\u001b[1;33m]\u001b[0m\u001b[1;33m\u001b[0m\u001b[1;33m\u001b[0m\u001b[0m\n\u001b[1;32m---> 30\u001b[1;33m     \u001b[0mplt\u001b[0m\u001b[1;33m.\u001b[0m\u001b[0maxvspan\u001b[0m\u001b[1;33m(\u001b[0m\u001b[0mdt\u001b[0m\u001b[1;33m.\u001b[0m\u001b[0mdatetime\u001b[0m\u001b[1;33m(\u001b[0m\u001b[0mxposition\u001b[0m\u001b[1;33m[\u001b[0m\u001b[1;36m0\u001b[0m\u001b[1;33m]\u001b[0m\u001b[1;33m)\u001b[0m\u001b[1;33m,\u001b[0m \u001b[0mxposition\u001b[0m\u001b[1;33m[\u001b[0m\u001b[1;36m1\u001b[0m\u001b[1;33m]\u001b[0m\u001b[1;33m,\u001b[0m \u001b[0mfacecolor\u001b[0m\u001b[1;33m=\u001b[0m\u001b[1;34m'g'\u001b[0m\u001b[1;33m,\u001b[0m \u001b[0malpha\u001b[0m\u001b[1;33m=\u001b[0m\u001b[1;36m0.1\u001b[0m\u001b[1;33m,\u001b[0m \u001b[0mlabel\u001b[0m\u001b[1;33m=\u001b[0m\u001b[1;34m\"baseline\"\u001b[0m\u001b[1;33m)\u001b[0m\u001b[1;33m\u001b[0m\u001b[1;33m\u001b[0m\u001b[0m\n\u001b[0m\u001b[0;32m     31\u001b[0m     \u001b[0mplt\u001b[0m\u001b[1;33m.\u001b[0m\u001b[0maxvspan\u001b[0m\u001b[1;33m(\u001b[0m\u001b[0mxposition\u001b[0m\u001b[1;33m[\u001b[0m\u001b[1;36m4\u001b[0m\u001b[1;33m]\u001b[0m\u001b[1;33m,\u001b[0m \u001b[0mxposition\u001b[0m\u001b[1;33m[\u001b[0m\u001b[1;36m5\u001b[0m\u001b[1;33m]\u001b[0m\u001b[1;33m,\u001b[0m \u001b[0mfacecolor\u001b[0m\u001b[1;33m=\u001b[0m\u001b[1;34m'k'\u001b[0m\u001b[1;33m,\u001b[0m \u001b[0malpha\u001b[0m\u001b[1;33m=\u001b[0m\u001b[1;36m0.1\u001b[0m\u001b[1;33m,\u001b[0m \u001b[0mlabel\u001b[0m\u001b[1;33m=\u001b[0m\u001b[1;34m\"intervention period\"\u001b[0m\u001b[1;33m)\u001b[0m\u001b[1;33m\u001b[0m\u001b[1;33m\u001b[0m\u001b[0m\n\u001b[0;32m     32\u001b[0m     \u001b[0mplt\u001b[0m\u001b[1;33m.\u001b[0m\u001b[0maxvspan\u001b[0m\u001b[1;33m(\u001b[0m\u001b[0mxposition\u001b[0m\u001b[1;33m[\u001b[0m\u001b[1;36m2\u001b[0m\u001b[1;33m]\u001b[0m\u001b[1;33m,\u001b[0m \u001b[0mxposition\u001b[0m\u001b[1;33m[\u001b[0m\u001b[1;36m3\u001b[0m\u001b[1;33m]\u001b[0m\u001b[1;33m,\u001b[0m \u001b[0mfacecolor\u001b[0m\u001b[1;33m=\u001b[0m\u001b[1;34m'm'\u001b[0m\u001b[1;33m,\u001b[0m \u001b[0malpha\u001b[0m\u001b[1;33m=\u001b[0m\u001b[1;36m0.1\u001b[0m\u001b[1;33m,\u001b[0m \u001b[0mlabel\u001b[0m\u001b[1;33m=\u001b[0m\u001b[1;34m\"follow-up\"\u001b[0m\u001b[1;33m)\u001b[0m\u001b[1;33m\u001b[0m\u001b[1;33m\u001b[0m\u001b[0m\n",
      "\u001b[1;31mTypeError\u001b[0m: an integer is required (got type str)"
     ]
    },
    {
     "data": {
      "image/png": "[encoded data removed]",
      "text/plain": [
       "<Figure size 1080x720 with 1 Axes>"
      ]
     },
     "metadata": {
      "needs_background": "light"
     },
     "output_type": "display_data"
    }
   ],
   "source": [
    "import matplotlib.pyplot as plt\n",
    "import datetime as dt\n",
    "\n",
    "# merge MONTHLY data with practice allocations \n",
    "plot_data = df1.loc[(df1.month_no>-14) & (df1.month_no<22)]\n",
    "    \n",
    "    \n",
    "def plot_timetrends(df=plot_data, ymin=0.05, ymax=0.19, legend_loc=\"lower left\", ylabel=\"proportion broad spectrum\"): \n",
    "    # remove rows where measure value is null\n",
    "    dfp = df.loc[~(pd.isnull(df.calc_value))].copy()\n",
    "    dfp = prac.merge(dfp, how='left', on='practice_id')\n",
    "    dfp = dfp[['practice_id','month','allocation','group_ab','calc_value']]\n",
    "    \n",
    "    fig = plt.subplots(figsize=(15,10))\n",
    "\n",
    "    dfp2 = dfp.loc[dfp[\"month\"]>\"2017-03-01\"].groupby(['month','allocation']).mean().unstack()\n",
    "    dfp2.columns = dfp2.columns.droplevel()\n",
    "    dfp2.reset_index(inplace=True)\n",
    "\n",
    "    yerror = dfp.loc[dfp[\"month\"]>\"2017-03-01\"].groupby(['month','allocation']).std().unstack()\n",
    "    yerror.columns = yerror.columns.droplevel()\n",
    "    yerror.reset_index(inplace=True)\n",
    "\n",
    "    plt.errorbar(dfp2[\"month\"] + pd.Timedelta(days=-1), dfp2[\"I\"], color='r',alpha=0.8, linewidth=2, yerr=yerror[\"I\"],label=\"Intervention +/-SD\")\n",
    "    plt.errorbar(dfp2[\"month\"] + pd.Timedelta(days=2), dfp2[\"con\"], color='k', alpha=0.8, linewidth=2, yerr=yerror[\"con\"],label=\"control +/-SD\")\n",
    "\n",
    "\n",
    "    # Add vertical lines for significant time points\n",
    "    xposition = ['2017-09-01', '2018-02-01','2018-09-01','2019-02-01','2018-05-01','2018-07-01']\n",
    "    plt.axvspan(dt.datetime(xposition[0]), xposition[1], facecolor='g', alpha=0.1, label=\"baseline\")\n",
    "    plt.axvspan(xposition[4], xposition[5], facecolor='k', alpha=0.1, label=\"intervention period\")\n",
    "    plt.axvspan(xposition[2], xposition[3], facecolor='m', alpha=0.1, label=\"follow-up\")\n",
    "\n",
    "\n",
    "    plt.legend(loc=legend_loc, fontsize=15)\n",
    "\n",
    "    plt.ylabel(ylabel, fontsize=20)\n",
    "    plt.xticks(rotation=90, size=14)\n",
    "    plt.yticks(size=12)\n",
    "\n",
    "    x1,x2,y1,y2 = plt.axis()\n",
    "    plt.axis((x1,x2,ymin, ymax))\n",
    "\n",
    "    plt.show()\n",
    "\n",
    "    \n",
    "plot_timetrends()"
   ]
  },
  {
   "cell_type": "code",
   "execution_count": 8,
   "metadata": {
    "scrolled": false
   },
   "outputs": [
    {
     "ename": "ConversionError",
     "evalue": "Failed to convert value(s) to axis units: ['2017-09-01', '2018-02-01']",
     "output_type": "error",
     "traceback": [
      "\u001b[1;31m---------------------------------------------------------------------------\u001b[0m",
      "\u001b[1;31mAttributeError\u001b[0m                            Traceback (most recent call last)",
      "\u001b[1;32m~\\Anaconda3\\envs\\antibiotics-rct\\lib\\site-packages\\matplotlib\\axis.py\u001b[0m in \u001b[0;36mconvert_units\u001b[1;34m(self, x)\u001b[0m\n\u001b[0;32m   1549\u001b[0m         \u001b[1;32mtry\u001b[0m\u001b[1;33m:\u001b[0m\u001b[1;33m\u001b[0m\u001b[1;33m\u001b[0m\u001b[0m\n\u001b[1;32m-> 1550\u001b[1;33m             \u001b[0mret\u001b[0m \u001b[1;33m=\u001b[0m \u001b[0mself\u001b[0m\u001b[1;33m.\u001b[0m\u001b[0mconverter\u001b[0m\u001b[1;33m.\u001b[0m\u001b[0mconvert\u001b[0m\u001b[1;33m(\u001b[0m\u001b[0mx\u001b[0m\u001b[1;33m,\u001b[0m \u001b[0mself\u001b[0m\u001b[1;33m.\u001b[0m\u001b[0munits\u001b[0m\u001b[1;33m,\u001b[0m \u001b[0mself\u001b[0m\u001b[1;33m)\u001b[0m\u001b[1;33m\u001b[0m\u001b[1;33m\u001b[0m\u001b[0m\n\u001b[0m\u001b[0;32m   1551\u001b[0m         \u001b[1;32mexcept\u001b[0m \u001b[0mException\u001b[0m \u001b[1;32mas\u001b[0m \u001b[0me\u001b[0m\u001b[1;33m:\u001b[0m\u001b[1;33m\u001b[0m\u001b[1;33m\u001b[0m\u001b[0m\n",
      "\u001b[1;32m~\\Anaconda3\\envs\\antibiotics-rct\\lib\\site-packages\\matplotlib\\dates.py\u001b[0m in \u001b[0;36mconvert\u001b[1;34m(value, unit, axis)\u001b[0m\n\u001b[0;32m   2004\u001b[0m         \"\"\"\n\u001b[1;32m-> 2005\u001b[1;33m         \u001b[1;32mreturn\u001b[0m \u001b[0mdate2num\u001b[0m\u001b[1;33m(\u001b[0m\u001b[0mvalue\u001b[0m\u001b[1;33m)\u001b[0m\u001b[1;33m\u001b[0m\u001b[1;33m\u001b[0m\u001b[0m\n\u001b[0m\u001b[0;32m   2006\u001b[0m \u001b[1;33m\u001b[0m\u001b[0m\n",
      "\u001b[1;32m~\\Anaconda3\\envs\\antibiotics-rct\\lib\\site-packages\\matplotlib\\dates.py\u001b[0m in \u001b[0;36mdate2num\u001b[1;34m(d)\u001b[0m\n\u001b[0;32m    422\u001b[0m             \u001b[1;32mreturn\u001b[0m \u001b[0md\u001b[0m\u001b[1;33m\u001b[0m\u001b[1;33m\u001b[0m\u001b[0m\n\u001b[1;32m--> 423\u001b[1;33m         \u001b[1;32mreturn\u001b[0m \u001b[0m_to_ordinalf_np_vectorized\u001b[0m\u001b[1;33m(\u001b[0m\u001b[0md\u001b[0m\u001b[1;33m)\u001b[0m\u001b[1;33m\u001b[0m\u001b[1;33m\u001b[0m\u001b[0m\n\u001b[0m\u001b[0;32m    424\u001b[0m \u001b[1;33m\u001b[0m\u001b[0m\n",
      "\u001b[1;32m~\\Anaconda3\\envs\\antibiotics-rct\\lib\\site-packages\\numpy\\lib\\function_base.py\u001b[0m in \u001b[0;36m__call__\u001b[1;34m(self, *args, **kwargs)\u001b[0m\n\u001b[0;32m   2090\u001b[0m \u001b[1;33m\u001b[0m\u001b[0m\n\u001b[1;32m-> 2091\u001b[1;33m         \u001b[1;32mreturn\u001b[0m \u001b[0mself\u001b[0m\u001b[1;33m.\u001b[0m\u001b[0m_vectorize_call\u001b[0m\u001b[1;33m(\u001b[0m\u001b[0mfunc\u001b[0m\u001b[1;33m=\u001b[0m\u001b[0mfunc\u001b[0m\u001b[1;33m,\u001b[0m \u001b[0margs\u001b[0m\u001b[1;33m=\u001b[0m\u001b[0mvargs\u001b[0m\u001b[1;33m)\u001b[0m\u001b[1;33m\u001b[0m\u001b[1;33m\u001b[0m\u001b[0m\n\u001b[0m\u001b[0;32m   2092\u001b[0m \u001b[1;33m\u001b[0m\u001b[0m\n",
      "\u001b[1;32m~\\Anaconda3\\envs\\antibiotics-rct\\lib\\site-packages\\numpy\\lib\\function_base.py\u001b[0m in \u001b[0;36m_vectorize_call\u001b[1;34m(self, func, args)\u001b[0m\n\u001b[0;32m   2160\u001b[0m         \u001b[1;32melse\u001b[0m\u001b[1;33m:\u001b[0m\u001b[1;33m\u001b[0m\u001b[1;33m\u001b[0m\u001b[0m\n\u001b[1;32m-> 2161\u001b[1;33m             \u001b[0mufunc\u001b[0m\u001b[1;33m,\u001b[0m \u001b[0motypes\u001b[0m \u001b[1;33m=\u001b[0m \u001b[0mself\u001b[0m\u001b[1;33m.\u001b[0m\u001b[0m_get_ufunc_and_otypes\u001b[0m\u001b[1;33m(\u001b[0m\u001b[0mfunc\u001b[0m\u001b[1;33m=\u001b[0m\u001b[0mfunc\u001b[0m\u001b[1;33m,\u001b[0m \u001b[0margs\u001b[0m\u001b[1;33m=\u001b[0m\u001b[0margs\u001b[0m\u001b[1;33m)\u001b[0m\u001b[1;33m\u001b[0m\u001b[1;33m\u001b[0m\u001b[0m\n\u001b[0m\u001b[0;32m   2162\u001b[0m \u001b[1;33m\u001b[0m\u001b[0m\n",
      "\u001b[1;32m~\\Anaconda3\\envs\\antibiotics-rct\\lib\\site-packages\\numpy\\lib\\function_base.py\u001b[0m in \u001b[0;36m_get_ufunc_and_otypes\u001b[1;34m(self, func, args)\u001b[0m\n\u001b[0;32m   2120\u001b[0m             \u001b[0minputs\u001b[0m \u001b[1;33m=\u001b[0m \u001b[1;33m[\u001b[0m\u001b[0marg\u001b[0m\u001b[1;33m.\u001b[0m\u001b[0mflat\u001b[0m\u001b[1;33m[\u001b[0m\u001b[1;36m0\u001b[0m\u001b[1;33m]\u001b[0m \u001b[1;32mfor\u001b[0m \u001b[0marg\u001b[0m \u001b[1;32min\u001b[0m \u001b[0margs\u001b[0m\u001b[1;33m]\u001b[0m\u001b[1;33m\u001b[0m\u001b[1;33m\u001b[0m\u001b[0m\n\u001b[1;32m-> 2121\u001b[1;33m             \u001b[0moutputs\u001b[0m \u001b[1;33m=\u001b[0m \u001b[0mfunc\u001b[0m\u001b[1;33m(\u001b[0m\u001b[1;33m*\u001b[0m\u001b[0minputs\u001b[0m\u001b[1;33m)\u001b[0m\u001b[1;33m\u001b[0m\u001b[1;33m\u001b[0m\u001b[0m\n\u001b[0m\u001b[0;32m   2122\u001b[0m \u001b[1;33m\u001b[0m\u001b[0m\n",
      "\u001b[1;32m~\\Anaconda3\\envs\\antibiotics-rct\\lib\\site-packages\\matplotlib\\dates.py\u001b[0m in \u001b[0;36m_to_ordinalf\u001b[1;34m(dt)\u001b[0m\n\u001b[0;32m    222\u001b[0m \u001b[1;33m\u001b[0m\u001b[0m\n\u001b[1;32m--> 223\u001b[1;33m     \u001b[0mbase\u001b[0m \u001b[1;33m=\u001b[0m \u001b[0mfloat\u001b[0m\u001b[1;33m(\u001b[0m\u001b[0mdt\u001b[0m\u001b[1;33m.\u001b[0m\u001b[0mtoordinal\u001b[0m\u001b[1;33m(\u001b[0m\u001b[1;33m)\u001b[0m\u001b[1;33m)\u001b[0m\u001b[1;33m\u001b[0m\u001b[1;33m\u001b[0m\u001b[0m\n\u001b[0m\u001b[0;32m    224\u001b[0m \u001b[1;33m\u001b[0m\u001b[0m\n",
      "\u001b[1;31mAttributeError\u001b[0m: 'numpy.str_' object has no attribute 'toordinal'",
      "\nThe above exception was the direct cause of the following exception:\n",
      "\u001b[1;31mConversionError\u001b[0m                           Traceback (most recent call last)",
      "\u001b[1;32m<ipython-input-8-9d534fd9af29>\u001b[0m in \u001b[0;36m<module>\u001b[1;34m\u001b[0m\n\u001b[0;32m     20\u001b[0m \u001b[1;31m# Add vertical lines for significant time points\u001b[0m\u001b[1;33m\u001b[0m\u001b[1;33m\u001b[0m\u001b[1;33m\u001b[0m\u001b[0m\n\u001b[0;32m     21\u001b[0m \u001b[0mxposition\u001b[0m \u001b[1;33m=\u001b[0m \u001b[1;33m[\u001b[0m\u001b[1;34m'2017-09-01'\u001b[0m\u001b[1;33m,\u001b[0m \u001b[1;34m'2018-02-01'\u001b[0m\u001b[1;33m,\u001b[0m\u001b[1;34m'2018-09-01'\u001b[0m\u001b[1;33m,\u001b[0m\u001b[1;34m'2019-02-01'\u001b[0m\u001b[1;33m,\u001b[0m\u001b[1;34m'2018-05-01'\u001b[0m\u001b[1;33m,\u001b[0m\u001b[1;34m'2018-07-01'\u001b[0m\u001b[1;33m]\u001b[0m\u001b[1;33m\u001b[0m\u001b[1;33m\u001b[0m\u001b[0m\n\u001b[1;32m---> 22\u001b[1;33m \u001b[0mplt\u001b[0m\u001b[1;33m.\u001b[0m\u001b[0maxvspan\u001b[0m\u001b[1;33m(\u001b[0m\u001b[0mxposition\u001b[0m\u001b[1;33m[\u001b[0m\u001b[1;36m0\u001b[0m\u001b[1;33m]\u001b[0m\u001b[1;33m,\u001b[0m \u001b[0mxposition\u001b[0m\u001b[1;33m[\u001b[0m\u001b[1;36m1\u001b[0m\u001b[1;33m]\u001b[0m\u001b[1;33m,\u001b[0m \u001b[0mfacecolor\u001b[0m\u001b[1;33m=\u001b[0m\u001b[1;34m'g'\u001b[0m\u001b[1;33m,\u001b[0m \u001b[0malpha\u001b[0m\u001b[1;33m=\u001b[0m\u001b[1;36m0.1\u001b[0m\u001b[1;33m,\u001b[0m \u001b[0mlabel\u001b[0m\u001b[1;33m=\u001b[0m\u001b[1;34m\"baseline\"\u001b[0m\u001b[1;33m)\u001b[0m\u001b[1;33m\u001b[0m\u001b[1;33m\u001b[0m\u001b[0m\n\u001b[0m\u001b[0;32m     23\u001b[0m \u001b[0mplt\u001b[0m\u001b[1;33m.\u001b[0m\u001b[0maxvspan\u001b[0m\u001b[1;33m(\u001b[0m\u001b[0mxposition\u001b[0m\u001b[1;33m[\u001b[0m\u001b[1;36m4\u001b[0m\u001b[1;33m]\u001b[0m\u001b[1;33m,\u001b[0m \u001b[0mxposition\u001b[0m\u001b[1;33m[\u001b[0m\u001b[1;36m5\u001b[0m\u001b[1;33m]\u001b[0m\u001b[1;33m,\u001b[0m \u001b[0mfacecolor\u001b[0m\u001b[1;33m=\u001b[0m\u001b[1;34m'k'\u001b[0m\u001b[1;33m,\u001b[0m \u001b[0malpha\u001b[0m\u001b[1;33m=\u001b[0m\u001b[1;36m0.1\u001b[0m\u001b[1;33m,\u001b[0m \u001b[0mlabel\u001b[0m\u001b[1;33m=\u001b[0m\u001b[1;34m\"intervention period\"\u001b[0m\u001b[1;33m)\u001b[0m\u001b[1;33m\u001b[0m\u001b[1;33m\u001b[0m\u001b[0m\n\u001b[0;32m     24\u001b[0m \u001b[0mplt\u001b[0m\u001b[1;33m.\u001b[0m\u001b[0maxvspan\u001b[0m\u001b[1;33m(\u001b[0m\u001b[0mxposition\u001b[0m\u001b[1;33m[\u001b[0m\u001b[1;36m2\u001b[0m\u001b[1;33m]\u001b[0m\u001b[1;33m,\u001b[0m \u001b[0mxposition\u001b[0m\u001b[1;33m[\u001b[0m\u001b[1;36m3\u001b[0m\u001b[1;33m]\u001b[0m\u001b[1;33m,\u001b[0m \u001b[0mfacecolor\u001b[0m\u001b[1;33m=\u001b[0m\u001b[1;34m'm'\u001b[0m\u001b[1;33m,\u001b[0m \u001b[0malpha\u001b[0m\u001b[1;33m=\u001b[0m\u001b[1;36m0.1\u001b[0m\u001b[1;33m,\u001b[0m \u001b[0mlabel\u001b[0m\u001b[1;33m=\u001b[0m\u001b[1;34m\"follow-up\"\u001b[0m\u001b[1;33m)\u001b[0m\u001b[1;33m\u001b[0m\u001b[1;33m\u001b[0m\u001b[0m\n",
      "\u001b[1;32m~\\Anaconda3\\envs\\antibiotics-rct\\lib\\site-packages\\matplotlib\\pyplot.py\u001b[0m in \u001b[0;36maxvspan\u001b[1;34m(xmin, xmax, ymin, ymax, **kwargs)\u001b[0m\n\u001b[0;32m   2429\u001b[0m \u001b[1;33m@\u001b[0m\u001b[0mdocstring\u001b[0m\u001b[1;33m.\u001b[0m\u001b[0mcopy\u001b[0m\u001b[1;33m(\u001b[0m\u001b[0mAxes\u001b[0m\u001b[1;33m.\u001b[0m\u001b[0maxvspan\u001b[0m\u001b[1;33m)\u001b[0m\u001b[1;33m\u001b[0m\u001b[1;33m\u001b[0m\u001b[0m\n\u001b[0;32m   2430\u001b[0m \u001b[1;32mdef\u001b[0m \u001b[0maxvspan\u001b[0m\u001b[1;33m(\u001b[0m\u001b[0mxmin\u001b[0m\u001b[1;33m,\u001b[0m \u001b[0mxmax\u001b[0m\u001b[1;33m,\u001b[0m \u001b[0mymin\u001b[0m\u001b[1;33m=\u001b[0m\u001b[1;36m0\u001b[0m\u001b[1;33m,\u001b[0m \u001b[0mymax\u001b[0m\u001b[1;33m=\u001b[0m\u001b[1;36m1\u001b[0m\u001b[1;33m,\u001b[0m \u001b[1;33m**\u001b[0m\u001b[0mkwargs\u001b[0m\u001b[1;33m)\u001b[0m\u001b[1;33m:\u001b[0m\u001b[1;33m\u001b[0m\u001b[1;33m\u001b[0m\u001b[0m\n\u001b[1;32m-> 2431\u001b[1;33m     \u001b[1;32mreturn\u001b[0m \u001b[0mgca\u001b[0m\u001b[1;33m(\u001b[0m\u001b[1;33m)\u001b[0m\u001b[1;33m.\u001b[0m\u001b[0maxvspan\u001b[0m\u001b[1;33m(\u001b[0m\u001b[0mxmin\u001b[0m\u001b[1;33m,\u001b[0m \u001b[0mxmax\u001b[0m\u001b[1;33m,\u001b[0m \u001b[0mymin\u001b[0m\u001b[1;33m=\u001b[0m\u001b[0mymin\u001b[0m\u001b[1;33m,\u001b[0m \u001b[0mymax\u001b[0m\u001b[1;33m=\u001b[0m\u001b[0mymax\u001b[0m\u001b[1;33m,\u001b[0m \u001b[1;33m**\u001b[0m\u001b[0mkwargs\u001b[0m\u001b[1;33m)\u001b[0m\u001b[1;33m\u001b[0m\u001b[1;33m\u001b[0m\u001b[0m\n\u001b[0m\u001b[0;32m   2432\u001b[0m \u001b[1;33m\u001b[0m\u001b[0m\n\u001b[0;32m   2433\u001b[0m \u001b[1;33m\u001b[0m\u001b[0m\n",
      "\u001b[1;32m~\\Anaconda3\\envs\\antibiotics-rct\\lib\\site-packages\\matplotlib\\axes\\_axes.py\u001b[0m in \u001b[0;36maxvspan\u001b[1;34m(self, xmin, xmax, ymin, ymax, **kwargs)\u001b[0m\n\u001b[0;32m   1047\u001b[0m \u001b[1;33m\u001b[0m\u001b[0m\n\u001b[0;32m   1048\u001b[0m         \u001b[1;31m# first we need to strip away the units\u001b[0m\u001b[1;33m\u001b[0m\u001b[1;33m\u001b[0m\u001b[1;33m\u001b[0m\u001b[0m\n\u001b[1;32m-> 1049\u001b[1;33m         \u001b[0mxmin\u001b[0m\u001b[1;33m,\u001b[0m \u001b[0mxmax\u001b[0m \u001b[1;33m=\u001b[0m \u001b[0mself\u001b[0m\u001b[1;33m.\u001b[0m\u001b[0mconvert_xunits\u001b[0m\u001b[1;33m(\u001b[0m\u001b[1;33m[\u001b[0m\u001b[0mxmin\u001b[0m\u001b[1;33m,\u001b[0m \u001b[0mxmax\u001b[0m\u001b[1;33m]\u001b[0m\u001b[1;33m)\u001b[0m\u001b[1;33m\u001b[0m\u001b[1;33m\u001b[0m\u001b[0m\n\u001b[0m\u001b[0;32m   1050\u001b[0m         \u001b[0mymin\u001b[0m\u001b[1;33m,\u001b[0m \u001b[0mymax\u001b[0m \u001b[1;33m=\u001b[0m \u001b[0mself\u001b[0m\u001b[1;33m.\u001b[0m\u001b[0mconvert_yunits\u001b[0m\u001b[1;33m(\u001b[0m\u001b[1;33m[\u001b[0m\u001b[0mymin\u001b[0m\u001b[1;33m,\u001b[0m \u001b[0mymax\u001b[0m\u001b[1;33m]\u001b[0m\u001b[1;33m)\u001b[0m\u001b[1;33m\u001b[0m\u001b[1;33m\u001b[0m\u001b[0m\n\u001b[0;32m   1051\u001b[0m \u001b[1;33m\u001b[0m\u001b[0m\n",
      "\u001b[1;32m~\\Anaconda3\\envs\\antibiotics-rct\\lib\\site-packages\\matplotlib\\artist.py\u001b[0m in \u001b[0;36mconvert_xunits\u001b[1;34m(self, x)\u001b[0m\n\u001b[0;32m    178\u001b[0m         \u001b[1;32mif\u001b[0m \u001b[0max\u001b[0m \u001b[1;32mis\u001b[0m \u001b[1;32mNone\u001b[0m \u001b[1;32mor\u001b[0m \u001b[0max\u001b[0m\u001b[1;33m.\u001b[0m\u001b[0mxaxis\u001b[0m \u001b[1;32mis\u001b[0m \u001b[1;32mNone\u001b[0m\u001b[1;33m:\u001b[0m\u001b[1;33m\u001b[0m\u001b[1;33m\u001b[0m\u001b[0m\n\u001b[0;32m    179\u001b[0m             \u001b[1;32mreturn\u001b[0m \u001b[0mx\u001b[0m\u001b[1;33m\u001b[0m\u001b[1;33m\u001b[0m\u001b[0m\n\u001b[1;32m--> 180\u001b[1;33m         \u001b[1;32mreturn\u001b[0m \u001b[0max\u001b[0m\u001b[1;33m.\u001b[0m\u001b[0mxaxis\u001b[0m\u001b[1;33m.\u001b[0m\u001b[0mconvert_units\u001b[0m\u001b[1;33m(\u001b[0m\u001b[0mx\u001b[0m\u001b[1;33m)\u001b[0m\u001b[1;33m\u001b[0m\u001b[1;33m\u001b[0m\u001b[0m\n\u001b[0m\u001b[0;32m    181\u001b[0m \u001b[1;33m\u001b[0m\u001b[0m\n\u001b[0;32m    182\u001b[0m     \u001b[1;32mdef\u001b[0m \u001b[0mconvert_yunits\u001b[0m\u001b[1;33m(\u001b[0m\u001b[0mself\u001b[0m\u001b[1;33m,\u001b[0m \u001b[0my\u001b[0m\u001b[1;33m)\u001b[0m\u001b[1;33m:\u001b[0m\u001b[1;33m\u001b[0m\u001b[1;33m\u001b[0m\u001b[0m\n",
      "\u001b[1;32m~\\Anaconda3\\envs\\antibiotics-rct\\lib\\site-packages\\matplotlib\\axis.py\u001b[0m in \u001b[0;36mconvert_units\u001b[1;34m(self, x)\u001b[0m\n\u001b[0;32m   1550\u001b[0m             \u001b[0mret\u001b[0m \u001b[1;33m=\u001b[0m \u001b[0mself\u001b[0m\u001b[1;33m.\u001b[0m\u001b[0mconverter\u001b[0m\u001b[1;33m.\u001b[0m\u001b[0mconvert\u001b[0m\u001b[1;33m(\u001b[0m\u001b[0mx\u001b[0m\u001b[1;33m,\u001b[0m \u001b[0mself\u001b[0m\u001b[1;33m.\u001b[0m\u001b[0munits\u001b[0m\u001b[1;33m,\u001b[0m \u001b[0mself\u001b[0m\u001b[1;33m)\u001b[0m\u001b[1;33m\u001b[0m\u001b[1;33m\u001b[0m\u001b[0m\n\u001b[0;32m   1551\u001b[0m         \u001b[1;32mexcept\u001b[0m \u001b[0mException\u001b[0m \u001b[1;32mas\u001b[0m \u001b[0me\u001b[0m\u001b[1;33m:\u001b[0m\u001b[1;33m\u001b[0m\u001b[1;33m\u001b[0m\u001b[0m\n\u001b[1;32m-> 1552\u001b[1;33m             raise munits.ConversionError('Failed to convert value(s) to axis '\n\u001b[0m\u001b[0;32m   1553\u001b[0m                                          f'units: {x!r}') from e\n\u001b[0;32m   1554\u001b[0m         \u001b[1;32mreturn\u001b[0m \u001b[0mret\u001b[0m\u001b[1;33m\u001b[0m\u001b[1;33m\u001b[0m\u001b[0m\n",
      "\u001b[1;31mConversionError\u001b[0m: Failed to convert value(s) to axis units: ['2017-09-01', '2018-02-01']"
     ]
    },
    {
     "data": {
      "image/png": "[encoded data removed]",
      "text/plain": [
       "<Figure size 1080x720 with 1 Axes>"
      ]
     },
     "metadata": {
      "needs_background": "light"
     },
     "output_type": "display_data"
    }
   ],
   "source": [
    "fig = plt.subplots(figsize=(15,10))\n",
    "\n",
    "dfp = df1.loc[(df1.month_no>-14) & (df1.month_no<22)]\n",
    "dfp = dfp.loc[~(pd.isnull(dfp.calc_value))]\n",
    "dfp = prac.merge(dfp, how='left', on='practice_id')\n",
    "dfp = dfp[['practice_id','month','allocation','group_ab','calc_value']]\n",
    "\n",
    "dfp3 = dfp.loc[dfp[\"month\"]>\"2017-03-01\"].groupby(['month','group_ab']).mean().unstack()\n",
    "dfp3.columns = dfp3.columns.droplevel()\n",
    "dfp3.reset_index(inplace=True)\n",
    "\n",
    "yerror = dfp.loc[dfp[\"month\"]>\"2017-03-01\"].groupby(['month','group_ab']).std().unstack()\n",
    "yerror.columns = yerror.columns.droplevel()\n",
    "yerror.reset_index(inplace=True)\n",
    "\n",
    "plt.errorbar(dfp3[\"month\"] + pd.Timedelta(days=-2), dfp3[\"A\"], yerr=yerror[\"A\"],label=\"behavioural impact +/-SD\", color=\"magenta\")\n",
    "plt.errorbar(dfp3[\"month\"] + pd.Timedelta(days=2), dfp3[\"B\"], yerr=yerror[\"B\"],label=\"plain +/-SD\", color=\"g\")\n",
    "plt.errorbar(dfp3[\"month\"], dfp3[\"con\"],label=\"control\", linestyle=\"--\", alpha=0.6, color=\"k\")\n",
    "\n",
    "# Add vertical lines for significant time points\n",
    "xposition = ['2017-09-01', '2018-02-01','2018-09-01','2019-02-01','2018-05-01','2018-07-01']\n",
    "plt.axvspan(xposition[0], xposition[1], facecolor='g', alpha=0.1, label=\"baseline\")\n",
    "plt.axvspan(xposition[4], xposition[5], facecolor='k', alpha=0.1, label=\"intervention period\")\n",
    "plt.axvspan(xposition[2], xposition[3], facecolor='m', alpha=0.1, label=\"follow-up\")\n",
    "\n",
    "\n",
    "plt.legend(loc='lower left', fontsize=15)\n",
    "\n",
    "plt.ylabel(\"proportion broad spectrum\", fontsize=20)\n",
    "plt.xticks(rotation=90, size=14)\n",
    "plt.yticks(size=14)\n",
    "\n",
    "plt.show()"
   ]
  },
  {
   "cell_type": "markdown",
   "metadata": {},
   "source": [
    "# Primary Outcome"
   ]
  },
  {
   "cell_type": "code",
   "execution_count": null,
   "metadata": {},
   "outputs": [],
   "source": [
    "# exclude practices with no follow-up data\n",
    "data = dfx2.loc[pd.notnull(dfx2[\"Follow-up Measure\"])].copy().reset_index()\n",
    "# create a new Series called \"intervention\" to convert intervention/control to numerichange[\"Percentage Change\"] = change['Change in Items']/change['Follow-up Items']cal values\n",
    "data['intervention'] = data.allocation.map({'con':0, 'I':1})\n",
    "\n",
    "summary = data.groupby(\"intervention\")[[\"Baseline Items\", \"Baseline Measure\", \"Follow-up Measure\"]].mean() \n",
    "summary[\"change\"] = summary[\"Follow-up Measure\"] - summary[\"Baseline Measure\"]\n",
    "#calculate difference in changes\n",
    "summary = summary.append(summary.iloc[1]-summary.iloc[0], ignore_index=True)\n",
    "\n",
    "100*summary.round(4)"
   ]
  },
  {
   "cell_type": "code",
   "execution_count": null,
   "metadata": {},
   "outputs": [],
   "source": [
    "\n",
    "# Difference in the proportion of antibiotics prescribed which were broad-spectrum, \n",
    "#between intervention and control groups, assessed by applying a multivariable linear regression model.\n",
    "\n",
    "import statsmodels.formula.api as smf\n",
    "\n",
    "# create a new Series called \"intervention\" to convert intervention/control to numerical values\n",
    "data['intervention'] = data.allocation.map({'con':0, 'I':1})\n",
    "\n",
    "formula = 'data[\"Follow-up Measure\"] ~ data[\"Baseline Measure\"] + intervention'\n",
    "\n",
    "lm = smf.ols(formula=formula, data=data).fit()\n",
    "lm.summary()\n"
   ]
  },
  {
   "cell_type": "markdown",
   "metadata": {},
   "source": [
    "## Primary outcome: Compare subgroups of intervention group"
   ]
  },
  {
   "cell_type": "code",
   "execution_count": null,
   "metadata": {},
   "outputs": [],
   "source": [
    "# include intervention group only & where follow-up data exists\n",
    "data2 = dfx2.copy().loc[(dfx2.allocation==\"I\") & (pd.notnull(dfx2[\"Follow-up Measure\"]))].reset_index() \n",
    " \n",
    "# create a new Series called groupb to convert A/B allocation to numeric\n",
    "data2['groupb'] = data2.group_ab.map({'A':0, 'B':1})\n",
    "\n",
    "summary = data2.groupby(\"groupb\")[[\"Baseline Measure\", \"Follow-up Measure\"]].mean() \n",
    "summary[\"change\"] = summary[\"Follow-up Measure\"] - summary[\"Baseline Measure\"]\n",
    "#calculate difference in changes\n",
    "summary = summary.append(summary.iloc[1]-summary.iloc[0], ignore_index=True)\n",
    "\n",
    "100*summary.round(4)"
   ]
  },
  {
   "cell_type": "code",
   "execution_count": null,
   "metadata": {
    "scrolled": false
   },
   "outputs": [],
   "source": [
    "### Regression for group A vs B\n",
    "\n",
    "formula2 = 'data2[\"Follow-up Measure\"] ~ data2[\"Baseline Measure\"]  + groupb'\n",
    "\n",
    "lm = smf.ols(formula=formula2, data=data2).fit()\n",
    "\n",
    "lm.summary()"
   ]
  },
  {
   "cell_type": "markdown",
   "metadata": {},
   "source": [
    "# Secondary Outcome"
   ]
  },
  {
   "cell_type": "markdown",
   "metadata": {},
   "source": [
    "### Estimated overall effect of the intervention on the number of broad-spectrum antibiotics prescribed during the follow-up period. \n",
    "This will be calculated as the total difference between the observed number of broad-spectrum antibiotics per practice and the expected number had they been in the control group ~~using the regression model~~ "
   ]
  },
  {
   "cell_type": "code",
   "execution_count": null,
   "metadata": {},
   "outputs": [],
   "source": [
    "change = data.groupby(['allocation']).agg({'practice_id':'count',       \n",
    "                                 'Baseline Items': 'sum',\n",
    "                                 'Baseline Denominator': 'sum',\n",
    "                                 'Follow-up Items': 'sum',\n",
    "                                 'Follow-up Denominator': 'sum'})\n",
    "\n",
    "# Calculate overall proportion from total items across all practices\n",
    "change[\"Baseline Measure\"] = change['Baseline Items'] / change['Baseline Denominator']\n",
    "change[\"Follow-up Measure\"] = change['Follow-up Items'] / change['Follow-up Denominator']\n",
    "\n",
    "# Calculate change in overall proportion and model change for both groups\n",
    "# if all were in control group\n",
    "change[\"Measure change\"] = change[\"Follow-up Measure\"] - change[\"Baseline Measure\"]\n",
    "change[\"Measure change model\"] = change.loc[\"con\",\"Measure change\"]\n",
    "change[\"Predicted measure\"] = change[\"Baseline Measure\"] + change[\"Measure change model\"]\n",
    "change[\"Predicted Items\"] = change[\"Follow-up Denominator\"]*change[\"Predicted measure\"]\n",
    "\n",
    "change[\"Change in Items\"] = change[\"Follow-up Items\"] - change[\"Predicted Items\"]\n",
    "change[\"% Change in Items\"] = 100*change[\"Change in Items\"] / change[\"Follow-up Items\"]\n",
    "\n",
    "change\n"
   ]
  },
  {
   "cell_type": "markdown",
   "metadata": {},
   "source": [
    "### Repeat for Behavioural impact vs plain feedback groups\n",
    "(Estimated overall effect of the intervention on the number of broad-spectrum antibiotics prescribed during the follow-up period)"
   ]
  },
  {
   "cell_type": "code",
   "execution_count": null,
   "metadata": {},
   "outputs": [],
   "source": [
    "change = data2.groupby(['group_ab']).agg({'practice_id':'count',       \n",
    "                                 'Baseline Items': 'sum',\n",
    "                                 'Baseline Denominator': 'sum',\n",
    "                                 'Follow-up Items': 'sum',\n",
    "                                 'Follow-up Denominator': 'sum'})\n",
    "\n",
    "# Calculate overall proportion from total items across all practices\n",
    "change[\"Baseline Measure\"] = change['Baseline Items'] / change['Baseline Denominator']\n",
    "change[\"Follow-up Measure\"] = change['Follow-up Items'] / change['Follow-up Denominator']\n",
    "\n",
    "# Calculate change in overall proportion and model change for both groups\n",
    "# if all were in least effective group \n",
    "change[\"Measure change\"] = change[\"Follow-up Measure\"] - change[\"Baseline Measure\"]\n",
    "change[\"Measure change model\"] = change[\"Measure change\"].max()\n",
    "change[\"Predicted measure\"] = change[\"Baseline Measure\"] + change[\"Measure change model\"]\n",
    "change[\"Predicted Items\"] = change[\"Follow-up Denominator\"]*change[\"Predicted measure\"]\n",
    "\n",
    "change[\"Change in Items\"] = change[\"Follow-up Items\"] - change[\"Predicted Items\"]\n",
    "change[\"% Change in Items\"] = 100*change[\"Change in Items\"] / change[\"Follow-up Items\"]\n",
    "\n",
    "\n",
    "change"
   ]
  },
  {
   "cell_type": "markdown",
   "metadata": {},
   "source": [
    "## Other antibiotic prescribing measures\n",
    "### Total antibiotics per STAR-PU"
   ]
  },
  {
   "cell_type": "code",
   "execution_count": null,
   "metadata": {},
   "outputs": [],
   "source": [
    "q = '''SELECT *, DATE_DIFF(month,'2017-08-01', MONTH) AS month_no FROM ebmdatalab.measures.practice_data_ktt9_antibiotics\n",
    "WHERE EXTRACT (YEAR from month)  >= 2017\n",
    "'''\n",
    "dftotal = bq.cached_read(q, csv_path='data/total_antibiotics_data.csv')\n",
    "dftotal[\"month\"] = pd.to_datetime(dftotal.month)\n",
    "dftotal.info()"
   ]
  },
  {
   "cell_type": "code",
   "execution_count": null,
   "metadata": {},
   "outputs": [],
   "source": [
    "import matplotlib.pyplot as plt\n",
    "\n",
    "# merge MONTHLY data with practice allocations \n",
    "dfp = dftotal.loc[(dftotal.month_no>-14) & (dftotal.month_no<22)]\n",
    "# remove rows where measure value is null, or denominator (practice population) very small\n",
    "dfp = dfp.loc[~(pd.isnull(dfp.calc_value))&(dfp.denominator>100)]\n",
    "\n",
    "plot_timetrends(df=dfp, ymin=0, ymax=0.15, ylabel=\"total antibiotics per STAR-PU\")"
   ]
  },
  {
   "cell_type": "code",
   "execution_count": null,
   "metadata": {},
   "outputs": [],
   "source": [
    "### select data only for the baseline and follow-up periods\n",
    "import datetime\n",
    "dft2 = dftotal.copy()\n",
    "conditions = [\n",
    "    (dft2['month']  >= d4), # after follow-up period\n",
    "    (dft2['month']  >= d3), # follow-up\n",
    "    (dft2['month']  >= d2), # mid\n",
    "    (dft2['month']  >= d1), # baseline\n",
    "    (dft2['month']  < d1)] # before\n",
    "\n",
    "choices = ['after', 'follow-up', 'mid', 'baseline','before']\n",
    "dft2['period'] = np.select(conditions, choices, default='0')\n",
    "\n",
    "# take columns of interest from df\n",
    "dft2 = dft2[[\"practice_id\",\"period\", \"month\", \"numerator\",\"denominator\"]]\n",
    "dft2 = dft2.set_index([\"practice_id\",\"period\", \"month\"])\n",
    "dft2.head(5)"
   ]
  },
  {
   "cell_type": "code",
   "execution_count": null,
   "metadata": {},
   "outputs": [],
   "source": [
    "\n",
    "dftm = dft2.reset_index()\n",
    "dftm = dftm.loc[(dftm.period==\"baseline\") | (dftm.period==\"follow-up\")]\n",
    "\n",
    "### sum numerator and average the denominators for each practice for each period\n",
    "dftm = dftm.groupby([\"practice_id\",\"period\"]).agg({\"numerator\":\"sum\",\"denominator\":\"mean\"})\n",
    "\n",
    "### calculate aggregated measure values\n",
    "dftm[\"calc_value\"] = dftm.numerator / dftm.denominator\n",
    "\n",
    "# unstack years\n",
    "dftm = dftm.reset_index()\n",
    "dftm = dftm[[\"practice_id\",\"period\",\"calc_value\",\"numerator\",\"denominator\"]].set_index([\"practice_id\",\"period\"]) \n",
    "dftm = dftm.unstack(1)\n",
    "\n",
    "# rename columns appropriately\n",
    "dftm.columns = dftm.columns.droplevel()\n",
    "dftm.columns.values[0] = 'Baseline Measure'\n",
    "dftm.columns.values[1] = 'Follow-up Measure'\n",
    "dftm.columns.values[2] = 'Baseline Items'\n",
    "dftm.columns.values[3] = 'Follow-up Items'\n",
    "dftm.columns.values[4] = 'Baseline Denominator'\n",
    "dftm.columns.values[5] = 'Follow-up Denominator'\n",
    "\n",
    "dftm = prac.merge(dftm, how='left', on='practice_id')\n",
    "dftm.head()"
   ]
  },
  {
   "cell_type": "code",
   "execution_count": null,
   "metadata": {},
   "outputs": [],
   "source": [
    "import statsmodels.formula.api as smf\n",
    "data = dftm.copy()\n",
    "\n",
    "# remove infinite values\n",
    "data[\"Follow-up Measure\"] = data[\"Follow-up Measure\"].replace([np.inf, -np.inf], np.nan)\n",
    "# create a new Series called \"intervention\" to convert intervention/control to numerical values\n",
    "data['intervention'] = data.allocation.map({'con':0, 'I':1})\n",
    "\n",
    "lm = smf.ols(formula='data[\"Follow-up Measure\"] ~ data[\"Baseline Measure\"] + intervention', data=data).fit()\n",
    "\n",
    "lm.summary()"
   ]
  },
  {
   "cell_type": "code",
   "execution_count": null,
   "metadata": {},
   "outputs": [],
   "source": [
    "import statsmodels.formula.api as smf\n",
    "data = dftm.loc[dftm.allocation==\"I\"]\n",
    "\n",
    "# remove infinite values\n",
    "data[\"Follow-up Measure\"] = data[\"Follow-up Measure\"].replace([np.inf, -np.inf], np.nan)\n",
    "# create a new Series called \"intervention\" to convert intervention/control to numerical values\n",
    "data['groupb'] = data.group_ab.map({'A':0, 'B':1})\n",
    "\n",
    "lm = smf.ols(formula='data[\"Follow-up Measure\"] ~ data[\"Baseline Measure\"] + groupb', data=data).fit()\n",
    "\n",
    "lm.summary()"
   ]
  },
  {
   "cell_type": "markdown",
   "metadata": {},
   "source": [
    "### UTI antibiotics (ADQs)"
   ]
  },
  {
   "cell_type": "code",
   "execution_count": null,
   "metadata": {},
   "outputs": [],
   "source": [
    "q = '''SELECT *, DATE_DIFF(month,'2017-08-01', MONTH) AS month_no FROM ebmdatalab.measures.practice_data_ktt9_uti_antibiotics\n",
    "WHERE EXTRACT (YEAR from month)  >= 2017\n",
    "'''\n",
    "dfuti = bq.cached_read(q, csv_path='data/uti_antibiotics_data.csv')\n",
    "dfuti[\"month\"] = pd.to_datetime(dfuti.month)\n",
    "dfuti.info()"
   ]
  },
  {
   "cell_type": "code",
   "execution_count": null,
   "metadata": {
    "scrolled": true
   },
   "outputs": [],
   "source": [
    "import matplotlib.pyplot as plt\n",
    "\n",
    "\n",
    "# merge MONTHLY data with practice allocations \n",
    "dfuti2 = dfuti.loc[(dfuti.month_no>-14) & (dfuti.month_no<22)]\n",
    "\n",
    "\n",
    "plot_timetrends(df=dfuti2,ymin=2,ymax=9,legend_loc=\"lower left\",ylabel=\"mean number of ADQs per item\")"
   ]
  },
  {
   "cell_type": "markdown",
   "metadata": {},
   "source": [
    "**Statistical test**"
   ]
  },
  {
   "cell_type": "code",
   "execution_count": null,
   "metadata": {},
   "outputs": [],
   "source": [
    "### select data only for the baseline and follow-up periods\n",
    "import datetime\n",
    "dfutim = dfuti.copy()\n",
    "conditions = [\n",
    "    (dfutim['month']  >= d4), # after follow-up period\n",
    "    (dfutim['month']  >= d3), # follow-up\n",
    "    (dfutim['month']  >= d2), # mid\n",
    "    (dfutim['month']  >= d1), # baseline\n",
    "    (dfutim['month']  < d1)] # before\n",
    "\n",
    "choices = ['after', 'follow-up', 'mid', 'baseline','before']\n",
    "dfutim['period'] = np.select(conditions, choices, default='0')\n",
    "\n",
    "# take columns of interest from df\n",
    "dfutim = dfutim[[\"practice_id\",\"period\", \"month\", \"numerator\",\"denominator\"]]\n",
    "dfutim = dfutim.set_index([\"practice_id\",\"period\", \"month\"])\n",
    "\n",
    "dfutim = dfutim.reset_index()\n",
    "dfutim = dfutim.loc[(dfutim.period==\"baseline\") | (dfutim.period==\"follow-up\")]\n",
    "\n",
    "### sum numerator and average the denominators for each practice for each period\n",
    "dfutim = dfutim.groupby([\"practice_id\",\"period\"]).agg({\"numerator\":\"sum\",\"denominator\":\"mean\"})\n",
    "\n",
    "### calculate aggregated measure values\n",
    "dfutim[\"calc_value\"] = dfutim.numerator / dfutim.denominator\n",
    "\n",
    "# unstack years\n",
    "dfutim = dfutim.reset_index()\n",
    "dfutim = dfutim[[\"practice_id\",\"period\",\"calc_value\",\"numerator\",\"denominator\"]].set_index([\"practice_id\",\"period\"]) \n",
    "dfutim = dfutim.unstack(1)\n",
    "\n",
    "# rename columns appropriately\n",
    "dfutim.columns = dfutim.columns.droplevel()\n",
    "dfutim.columns.values[0] = 'Baseline Measure'\n",
    "dfutim.columns.values[1] = 'Follow-up Measure'\n",
    "dfutim.columns.values[2] = 'Baseline Items'\n",
    "dfutim.columns.values[3] = 'Follow-up Items'\n",
    "dfutim.columns.values[4] = 'Baseline Denominator'\n",
    "dfutim.columns.values[5] = 'Follow-up Denominator'\n",
    "\n",
    "dfutim = prac.merge(dfutim, how='left', on='practice_id')\n",
    "\n",
    "\n",
    "import statsmodels.formula.api as smf\n",
    "data = dfutim.copy()\n",
    "# create a new Series called \"intervention\" to convert intervention/control to numerical values\n",
    "data['intervention'] = data.allocation.map({'con':0, 'I':1})\n",
    "\n",
    "lm = smf.ols(formula='data[\"Follow-up Measure\"] ~ data[\"Baseline Measure\"] + intervention', data=data).fit()\n",
    "\n",
    "lm.summary()"
   ]
  },
  {
   "cell_type": "code",
   "execution_count": null,
   "metadata": {},
   "outputs": [],
   "source": [
    "import statsmodels.formula.api as smf\n",
    "data = dfutim.loc[dfutim.allocation==\"I\"]\n",
    "\n",
    "# remove infinite values\n",
    "data[\"Follow-up Measure\"] = data[\"Follow-up Measure\"].replace([np.inf, -np.inf], np.nan)\n",
    "# create a new Series called \"intervention\" to convert intervention/control to numerical values\n",
    "data['groupb'] = data.group_ab.map({'A':0, 'B':1})\n",
    "\n",
    "lm = smf.ols(formula='data[\"Follow-up Measure\"] ~ data[\"Baseline Measure\"] + groupb', data=data).fit()\n",
    "\n",
    "lm.summary()"
   ]
  },
  {
   "cell_type": "markdown",
   "metadata": {},
   "source": [
    "**Trimethoprim**"
   ]
  },
  {
   "cell_type": "code",
   "execution_count": null,
   "metadata": {},
   "outputs": [],
   "source": [
    "q = '''SELECT *, DATE_DIFF(month,'2017-08-01', MONTH) AS month_no FROM ebmdatalab.measures.practice_data_trimethoprim\n",
    "WHERE EXTRACT (YEAR from month)  >= 2017\n",
    "'''\n",
    "dftrim = bq.cached_read(q, csv_path='data/antibiotics_nitrofurantoin_data.csv')\n",
    "dftrim[\"month\"] = pd.to_datetime(dftrim.month)\n",
    "dftrim.info()"
   ]
  },
  {
   "cell_type": "code",
   "execution_count": null,
   "metadata": {
    "scrolled": true
   },
   "outputs": [],
   "source": [
    "import matplotlib.pyplot as plt\n",
    "\n",
    "# merge MONTHLY data with practice allocations \n",
    "trim = dftrim.loc[(dftrim.month_no>-14) & (dftrim.month_no<22)]\n",
    "plot_timetrends(df=trim,ymax=0.8,\n",
    "                ylabel=\"trimethoprim % of all nitrofurantoin and trimethoprim items\")"
   ]
  },
  {
   "cell_type": "code",
   "execution_count": null,
   "metadata": {},
   "outputs": [],
   "source": [
    "### select data only for the baseline and follow-up periods\n",
    "import datetime\n",
    "dftrimm = dftrim.copy()\n",
    "conditions = [\n",
    "    (dftrimm['month']  >= d4), # after follow-up period\n",
    "    (dftrimm['month']  >= d3), # follow-up\n",
    "    (dftrimm['month']  >= d2), # mid\n",
    "    (dftrimm['month']  >= d1), # baseline\n",
    "    (dftrimm['month']  < d1)] # before\n",
    "\n",
    "choices = ['after', 'follow-up', 'mid', 'baseline','before']\n",
    "dftrimm['period'] = np.select(conditions, choices, default='0')\n",
    "\n",
    "# take columns of interest from df\n",
    "dftrimm = dftrimm[[\"practice_id\",\"period\", \"month\", \"numerator\",\"denominator\"]]\n",
    "dftrimm = dftrimm.set_index([\"practice_id\",\"period\", \"month\"])\n",
    "\n",
    "dftrimm = dftrimm.reset_index()\n",
    "dftrimm = dftrimm.loc[(dftrimm.period==\"baseline\") | (dftrimm.period==\"follow-up\")]\n",
    "\n",
    "### sum numerator and average the denominators for each practice for each period\n",
    "dftrimm = dftrimm.groupby([\"practice_id\",\"period\"]).agg({\"numerator\":\"sum\",\"denominator\":\"mean\"})\n",
    "\n",
    "### calculate aggregated measure values\n",
    "dftrimm[\"calc_value\"] = dftrimm.numerator / dftrimm.denominator\n",
    "\n",
    "# unstack years\n",
    "dftrimm = dftrimm.reset_index()\n",
    "dftrimm = dftrimm[[\"practice_id\",\"period\",\"calc_value\",\"numerator\",\"denominator\"]].set_index([\"practice_id\",\"period\"]) \n",
    "dftrimm = dftrimm.unstack(1)\n",
    "\n",
    "# rename columns appropriately\n",
    "dftrimm.columns = dftrimm.columns.droplevel()\n",
    "dftrimm.columns.values[0] = 'Baseline Measure'\n",
    "dftrimm.columns.values[1] = 'Follow-up Measure'\n",
    "dftrimm.columns.values[2] = 'Baseline Items'\n",
    "dftrimm.columns.values[3] = 'Follow-up Items'\n",
    "dftrimm.columns.values[4] = 'Baseline Denominator'\n",
    "dftrimm.columns.values[5] = 'Follow-up Denominator'\n",
    "\n",
    "dftrimm = prac.merge(dftrimm, how='left', on='practice_id')\n",
    "\n",
    "\n",
    "import statsmodels.formula.api as smf\n",
    "data = dftrimm.copy()\n",
    "# create a new Series called \"intervention\" to convert intervention/control to numerical values\n",
    "data['intervention'] = data.allocation.map({'con':0, 'I':1})\n",
    "\n",
    "lm = smf.ols(formula='data[\"Follow-up Measure\"] ~ data[\"Baseline Measure\"] + intervention', data=data).fit()\n",
    "\n",
    "lm.summary()"
   ]
  },
  {
   "cell_type": "code",
   "execution_count": null,
   "metadata": {},
   "outputs": [],
   "source": [
    "import statsmodels.formula.api as smf\n",
    "data = dftrimm.loc[dftrimm.allocation==\"I\"]\n",
    "\n",
    "# remove infinite values\n",
    "data[\"Follow-up Measure\"] = data[\"Follow-up Measure\"].replace([np.inf, -np.inf], np.nan)\n",
    "# create a new Series called \"intervention\" to convert intervention/control to numerical values\n",
    "data['groupb'] = data.group_ab.map({'A':0, 'B':1})\n",
    "\n",
    "lm = smf.ols(formula='data[\"Follow-up Measure\"] ~ data[\"Baseline Measure\"] + groupb', data=data).fit()\n",
    "\n",
    "lm.summary()"
   ]
  },
  {
   "cell_type": "markdown",
   "metadata": {},
   "source": [
    "## Subgroup analyses"
   ]
  },
  {
   "cell_type": "markdown",
   "metadata": {},
   "source": [
    "### SA1. Regression for Intervention vs Control - analyse effect of LIST SIZE"
   ]
  },
  {
   "cell_type": "code",
   "execution_count": null,
   "metadata": {},
   "outputs": [],
   "source": [
    "import statsmodels.formula.api as smf\n",
    "\n",
    "data = dfx2.copy()\n",
    "data['intervention'] = data.allocation.map({'con':0, 'I':1})\n",
    "\n",
    "# find average list size of each practice, during the intervention period\n",
    "q = '''SELECT practice, \n",
    "avg(total_list_size) AS list_size \n",
    "FROM ebmdatalab.hscic.practice_statistics\n",
    "WHERE month BETWEEN \"2018-05-01\" AND \"2018-07-01\"\n",
    "GROUP BY practice\n",
    "'''\n",
    "listsize = bq.cached_read(q, csv_path='data/list_size_covariate_data.csv')\n",
    "\n",
    "\n",
    "data = data.merge(listsize, left_on=\"practice_id\", right_on=\"practice\", how=\"inner\")\n",
    "\n",
    "# convert list size to deciles\n",
    "data[\"list_size_decile\"] = 100*(data[\"list_size\"].rank(pct=True)).round(1) \n",
    "\n",
    "\n",
    "lm = smf.ols(formula='data[\"Follow-up Measure\"] ~ data[\"Baseline Measure\"] + list_size_decile + intervention', data=data).fit()\n",
    "\n",
    "lm.summary()"
   ]
  },
  {
   "cell_type": "markdown",
   "metadata": {},
   "source": [
    "### SA2. Regression for subgroup of intervention group INTERACTING with any intervention"
   ]
  },
  {
   "cell_type": "markdown",
   "metadata": {},
   "source": [
    "**Obtain data**"
   ]
  },
  {
   "cell_type": "code",
   "execution_count": null,
   "metadata": {},
   "outputs": [],
   "source": [
    "campaign2 = pd.read_csv('data/pageviews_wave123.csv',usecols={\"Page\",\"Pageviews\",\"Medium\",\"Segment\",\"Unique Pageviews\",\"Avg. Time on Page\",\"Bounce Rate\"})\n",
    "\n",
    "c = campaign2.copy()\n",
    "c = c.loc[c['Page'].str.find('practice') !=-1]\n",
    "# extract practice, wave and medium information:\n",
    "n0 = c['Page'].str.find('practice')+len(\"practice/\")\n",
    "n1 = c['Medium'].str.find(' ')\n",
    "c[\"n0\"] = n0\n",
    "n2 = c['Segment'].str.len()\n",
    "\n",
    "# trim medium to reduce the options to 'post 'email' and 'fax'\n",
    "c[\"medium\"] = c.Medium.str[0:1]\n",
    "\n",
    "\n",
    "c[['x','practice_id']] = c['Page'].str.split(\"practice/\",expand=True)\n",
    "c['practice_id'] = c['practice_id'].str[0:6]\n",
    "#c[\"n0\"]\n",
    "c[\"wave\"] = c[\"Segment\"].str[-1].astype(int)\n",
    "\n",
    "c = c[c['practice_id'] != \"\"].drop([\"Medium\",\"Segment\",\"x\",\"n0\"], axis=1)\n",
    "\n",
    "c.sort_values(by=\"Unique Pageviews\").reset_index(drop=True).head(10)\n",
    "\n",
    "### NB some lines appear with no data due to the way the report is produced in Analytics\n",
    "\n",
    "c = c.loc[c[\"Pageviews\"]>0]\n",
    "browsing = c.copy() # for exploratory analysis later\n",
    "\n",
    "# group by practice and find max page views (will convert to boolian in next cell)\n",
    "c = c.groupby([\"practice_id\"])[\"Pageviews\"].max().reset_index()\n",
    "c.head()"
   ]
  },
  {
   "cell_type": "markdown",
   "metadata": {},
   "source": [
    "**Summary**"
   ]
  },
  {
   "cell_type": "code",
   "execution_count": null,
   "metadata": {},
   "outputs": [],
   "source": [
    "data = dfx2.loc[dfx2.allocation==\"I\"]\n",
    "\n",
    "####### find interacting vs not interacting ######################\n",
    "data = data.merge(c, on=\"practice_id\", how=\"left\")\n",
    "data['interaction'] = np.where(data[\"Pageviews\"]>0, 1, 0)\n",
    "\n",
    "summary = data.groupby(\"interaction\").agg({\"practice_id\":\"count\",\"Baseline Measure\":\"mean\", \"Follow-up Measure\":\"mean\"}) \n",
    "summary[\"change\"] = summary[\"Follow-up Measure\"] - summary[\"Baseline Measure\"]\n",
    "#calculate difference in changes\n",
    "summary = summary.append(summary.iloc[1]-summary.iloc[0], ignore_index=True)\n",
    "\n",
    "summary.round(4)"
   ]
  },
  {
   "cell_type": "markdown",
   "metadata": {},
   "source": [
    "**Analysis**"
   ]
  },
  {
   "cell_type": "code",
   "execution_count": null,
   "metadata": {},
   "outputs": [],
   "source": [
    "##The primary prescribing outcome measure will also be compared between the sub-groups \n",
    "# interacting with the link supplied, versus those not interacting; \n",
    "\n",
    "import statsmodels.formula.api as smf\n",
    "\n",
    "lm = smf.ols(formula='data[\"Follow-up Measure\"] ~ data[\"Baseline Measure\"]  + interaction', data=data).fit()\n",
    "\n",
    "lm.summary()"
   ]
  },
  {
   "cell_type": "markdown",
   "metadata": {},
   "source": [
    "### SA3. Regression for subgroup of intervention group OPTING OUT\n"
   ]
  },
  {
   "cell_type": "code",
   "execution_count": null,
   "metadata": {},
   "outputs": [],
   "source": [
    "\n",
    "# ...and for the sub-group which excludes those opting-out of the intervention.\n",
    "\n",
    "# Identify which practices were successfully contacted: \n",
    "# load csv containing information which means of contact were sent to each practice and which were undelivered\n",
    "# NB all null for letters.\n",
    "\n",
    "cont = pd.read_csv('data/intervention_report_v2.csv',usecols={\"practice_id\",\"wave\",\"method\",\"sent\",\"delivery_success\"}).fillna(0)\n",
    "cont = cont.rename(columns={\"method\":\"medium\"})\n",
    "\n",
    "c2 = cont.groupby([\"practice_id\",\"wave\"])[[\"sent\"]].sum().reset_index()\n",
    "c2 = pd.pivot(c2, index=\"practice_id\", columns=\"wave\", values=\"sent\").reset_index()\n",
    "c2[\"flag\"] = np.where(c2[3]<=1, 1, 0)\n",
    "c2[c2[\"flag\"]>0]\n",
    "\n",
    "\n",
    "data = dfx2.loc[dfx2.allocation==\"I\"] # include intervention group only\n",
    "data = data.merge(c2[[\"practice_id\",\"flag\"]], on=\"practice_id\", how=\"left\")\n",
    "\n",
    "\n",
    "####### find opting out vs not opting out ######################\n",
    "import statsmodels.formula.api as smf\n",
    "data['opt_out'] = data[\"flag\"]\n",
    "\n",
    "\n",
    "lm = smf.ols(formula='data[\"Follow-up Measure\"] ~ data[\"Baseline Measure\"]  + opt_out', data=data).fit()\n",
    "\n",
    "lm.summary()"
   ]
  },
  {
   "cell_type": "code",
   "execution_count": null,
   "metadata": {},
   "outputs": [],
   "source": []
  }
 ],
 "metadata": {
  "kernelspec": {
   "display_name": "Python 3",
   "language": "python",
   "name": "python3"
  },
  "language_info": {
   "codemirror_mode": {
    "name": "ipython",
    "version": 3
   },
   "file_extension": ".py",
   "mimetype": "text/x-python",
   "name": "python",
   "nbconvert_exporter": "python",
   "pygments_lexer": "ipython3",
   "version": "3.8.1"
  }
 },
 "nbformat": 4,
 "nbformat_minor": 2
}
